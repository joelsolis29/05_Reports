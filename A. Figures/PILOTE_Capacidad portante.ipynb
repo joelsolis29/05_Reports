{
 "cells": [
  {
   "cell_type": "code",
   "execution_count": 7,
   "id": "1c07dd56",
   "metadata": {},
   "outputs": [],
   "source": [
    "# Cargar librerias\n",
    "import numpy as np\n",
    "import matplotlib.pyplot as plt"
   ]
  },
  {
   "cell_type": "code",
   "execution_count": 2,
   "id": "6190467e",
   "metadata": {},
   "outputs": [],
   "source": [
    "# Unidades\n",
    "deg = np.pi/180\n",
    "m = 1\n",
    "cm = 0.01*m\n",
    "N = 1\n",
    "kN = 1000*N\n",
    "MN = 1e6*N\n",
    "Pa = 1\n",
    "kPa = 1e3*Pa\n",
    "MPa = 1e6*Pa"
   ]
  },
  {
   "cell_type": "code",
   "execution_count": 3,
   "id": "14747ff9",
   "metadata": {},
   "outputs": [],
   "source": [
    "# Funcion de capacidad ultima\n",
    "def f_qu_h(D, phi, c, gamma, z):\n",
    "    sigma_v = gamma*z\n",
    "    A = 0.25*np.pi*(D**2)\n",
    "    \n",
    "    # Calculo de factores de carga\n",
    "    Nq = np.exp(np.pi*np.tan(phi)) * np.tan(0.25*np.pi+0.5*phi)**2\n",
    "    Nc = (Nq-1)/np.tan(phi)\n",
    "\n",
    "\n",
    "    # Calculo de factores de forma\n",
    "    sc = 1 + Nq/Nc\n",
    "    sq = 1 + np.sin(phi)\n",
    "\n",
    "    # Calculo de factores de profundidad\n",
    "    dc = 1 + 0.4*np.arctan(z/D)\n",
    "    dq = 1 + 2*np.tan(phi)*((1-np.sin(phi))**2)*np.arctan(z/D)\n",
    "    \n",
    "    # Calculo de capacidad ultima\n",
    "    qu = c*Nc*sc*dc + sigma_v*Nq*sq*dq\n",
    "    Qu = qu*A\n",
    "    return Qu"
   ]
  },
  {
   "cell_type": "code",
   "execution_count": 4,
   "id": "23a2a26b",
   "metadata": {},
   "outputs": [],
   "source": [
    "# Parametros de resistencia\n",
    "phi = 27*deg\n",
    "c = 0*kPa\n",
    "gamma = 10*kPa\n",
    "\n",
    "# Parametros geometricos\n",
    "z = 10*m\n",
    "D = 80*cm"
   ]
  },
  {
   "cell_type": "code",
   "execution_count": 5,
   "id": "4c5bd40f",
   "metadata": {},
   "outputs": [],
   "source": [
    "# Función de probabilidad del ángulo de fricción\n",
    "phi_min = 28*deg\n",
    "phi_ave = 30*deg\n",
    "phi_max = 35*deg\n",
    "phi_std = 3*deg\n",
    "\n",
    "i = 0\n",
    "N = 1000\n",
    "conf = 0.95\n",
    "phi_arr=np.zeros(N)\n",
    "\n",
    "while i<N:\n",
    "    phi_va = np.random.normal(phi_ave,phi_std)\n",
    "    phi_arr[i] = phi_va\n",
    "    i = i + 1"
   ]
  },
  {
   "cell_type": "code",
   "execution_count": 6,
   "id": "d2cb276b",
   "metadata": {},
   "outputs": [
    {
     "data": {
      "image/png": "[encoded data removed]",
      "text/plain": [
       "<Figure size 640x480 with 1 Axes>"
      ]
     },
     "metadata": {},
     "output_type": "display_data"
    }
   ],
   "source": [
    "# Calculo de capacidad ultima\n",
    "Qu_arr = np.zeros(N)\n",
    "i = 0\n",
    "while i<N:\n",
    "    Qu_arr[i] = f_qu_h(D, phi_arr[i], c, gamma, z)\n",
    "    i = i + 1\n",
    "\n",
    "# Ordenamiento del vector\n",
    "Qu_ord = Qu_arr[Qu_arr.argsort()]\n",
    "\n",
    "# Histograma de capacidad ultima\n",
    "Pos = int(np.round(N*(1-conf),2))\n",
    "Qu_prob = Qu_ord[Pos]\n",
    "\n",
    "plt.xlabel(\"Carga de punta en pilote [kN]\", fontsize = 10)\n",
    "plt.ylabel(\"Frecuencias\", fontsize = 10)\n",
    "plt. title(\"Histograma\", fontsize = 10)\n",
    "\n",
    "count, bins, ignored = plt.hist(Qu_arr/1000,25)"
   ]
  }
 ],
 "metadata": {
  "kernelspec": {
   "display_name": "Python 3",
   "language": "python",
   "name": "python3"
  },
  "language_info": {
   "codemirror_mode": {
    "name": "ipython",
    "version": 3
   },
   "file_extension": ".py",
   "mimetype": "text/x-python",
   "name": "python",
   "nbconvert_exporter": "python",
   "pygments_lexer": "ipython3",
   "version": "3.11.9"
  }
 },
 "nbformat": 4,
 "nbformat_minor": 5
}
