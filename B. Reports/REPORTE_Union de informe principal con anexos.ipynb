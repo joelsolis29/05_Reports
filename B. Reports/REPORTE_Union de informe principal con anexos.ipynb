{
 "cells": [
  {
   "cell_type": "code",
   "execution_count": 12,
   "id": "73dff385",
   "metadata": {},
   "outputs": [],
   "source": [
    "from pypdf import PdfReader, PdfWriter"
   ]
  },
  {
   "cell_type": "code",
   "execution_count": null,
   "id": "2c219fa9",
   "metadata": {},
   "outputs": [],
   "source": [
    "principal = r\"\"\n",
    "Anexo08 = r\"\"\n",
    "Anexo07_2 = r\"\"\n",
    "Anexo07_1 = r\"\"\n",
    "Anexo06 = r\"\"\n",
    "\n",
    "Anexo05_5 = r\"\"\n",
    "Anexo05_4 = r\"\"\n",
    "Anexo05_3 = r\"\"\n",
    "Anexo05_2 = r\"\"\n",
    "Anexo05_1 = r\"\"\n",
    "\n",
    "Anexo04_4 = r\"\"\n",
    "Anexo04_3 = r\"\"\n",
    "Anexo04_2 = r\"\"\n",
    "Anexo04_1 = r\"\"\n",
    "\n",
    "Anexo03_3 = r\"\"\n",
    "Anexo03_2 = r\"\"\n",
    "Anexo03_1 = r\"\"\n",
    "\n",
    "Anexo02_4 = r\"\"\n",
    "Anexo02_3 = r\"\"\n",
    "Anexo02_2 = r\"\"\n",
    "Anexo02_1 = r\"\"\n",
    "\n",
    "Anexo01_4 = r\"\"\n",
    "Anexo01_3 = r\"\"\n",
    "Anexo01_2 = r\"\"\n",
    "Anexo01_1 = r\"\"\n",
    "\n",
    "\n",
    "anexos = [Anexo08,\n",
    "          Anexo07_2,Anexo07_1,\n",
    "          Anexo06,\n",
    "          Anexo05_5,Anexo05_4,Anexo05_3,Anexo05_2,Anexo05_1,\n",
    "          Anexo04_4,Anexo04_3,Anexo04_2,Anexo04_1,\n",
    "          Anexo03_3,Anexo03_2,Anexo03_1,\n",
    "          Anexo02_4,Anexo02_3,Anexo02_2,Anexo02_1,\n",
    "          Anexo01_4,Anexo01_3,Anexo01_2,Anexo01_1]\n",
    "\n",
    "output = r\"C:\\Users\\jsoli\\Downloads\\Anexos - CUI 2\\Informe+Anexos.pdf\""
   ]
  },
  {
   "cell_type": "code",
   "execution_count": 14,
   "id": "13accab4",
   "metadata": {},
   "outputs": [],
   "source": [
    "# Crear una copia del archivo\n",
    "reader_principal = PdfReader(principal)\n",
    "\n",
    "# Número total de páginas\n",
    "num_paginas = len(reader_principal.pages)"
   ]
  },
  {
   "cell_type": "code",
   "execution_count": 15,
   "id": "a4dbec6c",
   "metadata": {},
   "outputs": [
    {
     "name": "stderr",
     "output_type": "stream",
     "text": [
      "Multiple definitions in dictionary at byte 0x1366a3 for key /PageMode\n",
      "Multiple definitions in dictionary at byte 0x104599c for key /PageMode\n"
     ]
    }
   ],
   "source": [
    "ubicacion = list(range(num_paginas, num_paginas - len(anexos) - 1, -1))\n",
    "\n",
    "# Crear escritor\n",
    "writer = PdfWriter()\n",
    "\n",
    "# Copiar todos los metadatos y bookmarks del principal\n",
    "writer.clone_reader_document_root(reader_principal)\n",
    "\n",
    "for idx, anexo in enumerate(anexos):\n",
    "    reader_anexo = PdfReader(anexo)\n",
    "    for page in reversed(reader_anexo.pages):\n",
    "        writer.insert_page(page, ubicacion[idx])\n",
    "\n",
    "# Guardar el archivo final\n",
    "with open(output, \"wb\") as f:\n",
    "    writer.write(f)\n"
   ]
  }
 ],
 "metadata": {
  "kernelspec": {
   "display_name": "Python 3",
   "language": "python",
   "name": "python3"
  },
  "language_info": {
   "codemirror_mode": {
    "name": "ipython",
    "version": 3
   },
   "file_extension": ".py",
   "mimetype": "text/x-python",
   "name": "python",
   "nbconvert_exporter": "python",
   "pygments_lexer": "ipython3",
   "version": "3.11.9"
  }
 },
 "nbformat": 4,
 "nbformat_minor": 5
}
